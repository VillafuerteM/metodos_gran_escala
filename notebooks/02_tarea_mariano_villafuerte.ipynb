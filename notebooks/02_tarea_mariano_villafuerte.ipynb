{
  "nbformat": 4,
  "nbformat_minor": 0,
  "metadata": {
    "colab": {
      "provenance": []
    },
    "kernelspec": {
      "name": "python3",
      "display_name": "Python 3"
    },
    "language_info": {
      "name": "python"
    }
  },
  "cells": [
    {
      "cell_type": "code",
      "execution_count": 1,
      "metadata": {
        "id": "vxA9B63HAZHx"
      },
      "outputs": [],
      "source": [
        "# librerias\n",
        "import pandas as pd\n",
        "import matplotlib.pyplot as plt\n",
        "import seaborn as sns\n",
        "from sklearn import linear_model\n",
        "from sklearn.model_selection import train_test_split"
      ]
    },
    {
      "cell_type": "code",
      "source": [
        "# lectura de datos\n",
        "df_train = pd.read_csv(\"/content/drive/MyDrive/ITAM/Maestria/2 Semestre/Metodos de Gran Escala/train.csv\")\n",
        "df_test =  pd.read_csv(\"/content/drive/MyDrive/ITAM/Maestria/2 Semestre/Metodos de Gran Escala/test.csv\")"
      ],
      "metadata": {
        "id": "2yX8bWyHAoi3"
      },
      "execution_count": 2,
      "outputs": []
    },
    {
      "cell_type": "code",
      "source": [
        "# vemos todas las columnas\n",
        "df_train.columns.values"
      ],
      "metadata": {
        "colab": {
          "base_uri": "https://localhost:8080/"
        },
        "id": "e1CIRDq4BP7x",
        "outputId": "5159c510-475b-4e5e-8ef9-5173854dd5bb"
      },
      "execution_count": 3,
      "outputs": [
        {
          "output_type": "execute_result",
          "data": {
            "text/plain": [
              "array(['Id', 'MSSubClass', 'MSZoning', 'LotFrontage', 'LotArea', 'Street',\n",
              "       'Alley', 'LotShape', 'LandContour', 'Utilities', 'LotConfig',\n",
              "       'LandSlope', 'Neighborhood', 'Condition1', 'Condition2',\n",
              "       'BldgType', 'HouseStyle', 'OverallQual', 'OverallCond',\n",
              "       'YearBuilt', 'YearRemodAdd', 'RoofStyle', 'RoofMatl',\n",
              "       'Exterior1st', 'Exterior2nd', 'MasVnrType', 'MasVnrArea',\n",
              "       'ExterQual', 'ExterCond', 'Foundation', 'BsmtQual', 'BsmtCond',\n",
              "       'BsmtExposure', 'BsmtFinType1', 'BsmtFinSF1', 'BsmtFinType2',\n",
              "       'BsmtFinSF2', 'BsmtUnfSF', 'TotalBsmtSF', 'Heating', 'HeatingQC',\n",
              "       'CentralAir', 'Electrical', '1stFlrSF', '2ndFlrSF', 'LowQualFinSF',\n",
              "       'GrLivArea', 'BsmtFullBath', 'BsmtHalfBath', 'FullBath',\n",
              "       'HalfBath', 'BedroomAbvGr', 'KitchenAbvGr', 'KitchenQual',\n",
              "       'TotRmsAbvGrd', 'Functional', 'Fireplaces', 'FireplaceQu',\n",
              "       'GarageType', 'GarageYrBlt', 'GarageFinish', 'GarageCars',\n",
              "       'GarageArea', 'GarageQual', 'GarageCond', 'PavedDrive',\n",
              "       'WoodDeckSF', 'OpenPorchSF', 'EnclosedPorch', '3SsnPorch',\n",
              "       'ScreenPorch', 'PoolArea', 'PoolQC', 'Fence', 'MiscFeature',\n",
              "       'MiscVal', 'MoSold', 'YrSold', 'SaleType', 'SaleCondition',\n",
              "       'SalePrice'], dtype=object)"
            ]
          },
          "metadata": {},
          "execution_count": 3
        }
      ]
    },
    {
      "cell_type": "code",
      "source": [
        "# nos ponemos a ver las variables que son categoricas y sus niveles\n",
        "variables_char = df_train.select_dtypes(include=['object']).columns\n",
        "niveles = df_train[variables_char].apply(lambda x: x.nunique())\n",
        "print(niveles)"
      ],
      "metadata": {
        "colab": {
          "base_uri": "https://localhost:8080/"
        },
        "id": "oRWkqJrTn1ay",
        "outputId": "c9fe8985-1e39-461b-f1ab-df0bdc156dfc"
      },
      "execution_count": 4,
      "outputs": [
        {
          "output_type": "stream",
          "name": "stdout",
          "text": [
            "MSZoning          5\n",
            "Street            2\n",
            "Alley             2\n",
            "LotShape          4\n",
            "LandContour       4\n",
            "Utilities         2\n",
            "LotConfig         5\n",
            "LandSlope         3\n",
            "Neighborhood     25\n",
            "Condition1        9\n",
            "Condition2        8\n",
            "BldgType          5\n",
            "HouseStyle        8\n",
            "RoofStyle         6\n",
            "RoofMatl          8\n",
            "Exterior1st      15\n",
            "Exterior2nd      16\n",
            "MasVnrType        4\n",
            "ExterQual         4\n",
            "ExterCond         5\n",
            "Foundation        6\n",
            "BsmtQual          4\n",
            "BsmtCond          4\n",
            "BsmtExposure      4\n",
            "BsmtFinType1      6\n",
            "BsmtFinType2      6\n",
            "Heating           6\n",
            "HeatingQC         5\n",
            "CentralAir        2\n",
            "Electrical        5\n",
            "KitchenQual       4\n",
            "Functional        7\n",
            "FireplaceQu       5\n",
            "GarageType        6\n",
            "GarageFinish      3\n",
            "GarageQual        5\n",
            "GarageCond        5\n",
            "PavedDrive        3\n",
            "PoolQC            3\n",
            "Fence             4\n",
            "MiscFeature       4\n",
            "SaleType          9\n",
            "SaleCondition     6\n",
            "dtype: int64\n"
          ]
        }
      ]
    },
    {
      "cell_type": "code",
      "source": [
        "# nos vamos a quedar solo con algunas variables que sonaban bien jejeje,\n",
        "# por ejemplo sale type y sale condition no tienen mucho sentido porque\n",
        "# las conoces hasta después de la venta\n",
        "\n",
        "columns_to_keep = [\n",
        "    'GrLivArea', 'LotArea',\n",
        "    'YearBuilt', 'FullBath', 'HalfBath',\n",
        "    'BedroomAbvGr', 'TotRmsAbvGrd', 'GarageCars',\n",
        "    'GarageArea', 'Fireplaces', 'SalePrice'\n",
        "]\n",
        "\n",
        "# filtramos\n",
        "df_train_filt = df_train[columns_to_keep]"
      ],
      "metadata": {
        "id": "7dBSs8grB905"
      },
      "execution_count": 6,
      "outputs": []
    },
    {
      "cell_type": "markdown",
      "source": [
        "# Basic EDA"
      ],
      "metadata": {
        "id": "x54Rvfcjp9Yv"
      }
    },
    {
      "cell_type": "code",
      "source": [
        "sns.scatterplot(x='LotArea', y='SalePrice', data=df_train_filt)"
      ],
      "metadata": {
        "colab": {
          "base_uri": "https://localhost:8080/",
          "height": 467
        },
        "id": "tYHSwErCEIOo",
        "outputId": "e05590f1-a786-4580-a11a-26117ff351b8"
      },
      "execution_count": null,
      "outputs": [
        {
          "output_type": "execute_result",
          "data": {
            "text/plain": [
              "<Axes: xlabel='LotArea', ylabel='SalePrice'>"
            ]
          },
          "metadata": {},
          "execution_count": 25
        },
        {
          "output_type": "display_data",
          "data": {
            "text/plain": [
              "<Figure size 640x480 with 1 Axes>"
            ],
            "image/png": "[encoded data removed]"
          },
          "metadata": {}
        }
      ]
    },
    {
      "cell_type": "code",
      "source": [
        "sns.displot(\n",
        "    df_train_filt, x=\"SalePrice\",\n",
        "    facet_kws=dict(margin_titles=True),\n",
        "\n",
        ")"
      ],
      "metadata": {
        "colab": {
          "base_uri": "https://localhost:8080/",
          "height": 524
        },
        "id": "PBIPaxe1H0l7",
        "outputId": "6e97536e-7fa4-4843-e213-527c49611215"
      },
      "execution_count": null,
      "outputs": [
        {
          "output_type": "execute_result",
          "data": {
            "text/plain": [
              "<seaborn.axisgrid.FacetGrid at 0x7f3daae05a80>"
            ]
          },
          "metadata": {},
          "execution_count": 26
        },
        {
          "output_type": "display_data",
          "data": {
            "text/plain": [
              "<Figure size 500x500 with 1 Axes>"
            ],
            "image/png": "[encoded data removed]"
          },
          "metadata": {}
        }
      ]
    },
    {
      "cell_type": "code",
      "source": [
        "X = df_train_filt.drop('SalePrice', axis=1)\n",
        "y = df_train_filt['SalePrice']\n",
        "\n",
        "# Splitting the training data for model validation\n",
        "X_train, X_val, y_train, y_val = train_test_split(X, y, test_size=0.2, random_state=42)"
      ],
      "metadata": {
        "id": "qU6QBnQFcAWU"
      },
      "execution_count": 7,
      "outputs": []
    },
    {
      "cell_type": "code",
      "source": [
        "from sklearn.model_selection import train_test_split, GridSearchCV\n",
        "from sklearn.neighbors import KNeighborsRegressor\n",
        "from sklearn.preprocessing import StandardScaler\n",
        "import numpy as np\n",
        "\n",
        "\n",
        "# Scale features (important for KNN)\n",
        "scaler = StandardScaler()\n",
        "X_train_scaled = scaler.fit_transform(X_train)\n",
        "\n",
        "# Create KNN regressor\n",
        "knn_regressor = KNeighborsRegressor()\n",
        "\n",
        "# Define parameter grid for n_neighbors\n",
        "param_grid = {'n_neighbors': np.arange(1, 31)}\n",
        "\n",
        "# Use GridSearchCV to find the best k for KNN, using cross-validation\n",
        "grid_search = GridSearchCV(knn_regressor, param_grid, cv=5)\n",
        "grid_search.fit(X_train_scaled, y_train)\n",
        "\n",
        "# Best k value\n",
        "best_k = grid_search.best_params_['n_neighbors']\n",
        "print(f\"Best k: {best_k}\")\n",
        "\n",
        "# Train KNN with the best k (GridSearchCV automatically refits the best model on the entire training set)\n",
        "knn_best = grid_search.best_estimator_\n"
      ],
      "metadata": {
        "id": "kf_j3JYUfOiT",
        "colab": {
          "base_uri": "https://localhost:8080/"
        },
        "outputId": "0ff1787e-e166-4b2d-83f3-4f5f5f5577df"
      },
      "execution_count": 8,
      "outputs": [
        {
          "output_type": "stream",
          "name": "stdout",
          "text": [
            "Best k: 8\n"
          ]
        }
      ]
    },
    {
      "cell_type": "code",
      "source": [
        "# Evaluate the model on the test set\n",
        "columns_to_keep = [\n",
        "    'GrLivArea', 'LotArea',\n",
        "    'YearBuilt', 'FullBath', 'HalfBath',\n",
        "    'BedroomAbvGr', 'TotRmsAbvGrd', 'GarageCars',\n",
        "    'GarageArea', 'Fireplaces'\n",
        "]\n",
        "\n",
        "df_test_filt = df_test[columns_to_keep]\n",
        "mean_values = df_train_filt.mean()\n",
        "\n",
        "# Fill missing values with the mean of each column\n",
        "df_test_filt = df_test_filt.fillna(mean_values)\n",
        "\n",
        "X_test_scaled = scaler.transform(df_test_filt)\n",
        "\n",
        "\n",
        "predicted_sale_price = knn_best.predict(X_test_scaled)"
      ],
      "metadata": {
        "id": "KFeYFbAJF3vm"
      },
      "execution_count": 11,
      "outputs": []
    },
    {
      "cell_type": "code",
      "source": [],
      "metadata": {
        "id": "xuj77DhNJdk6"
      },
      "execution_count": null,
      "outputs": []
    }
  ]
}